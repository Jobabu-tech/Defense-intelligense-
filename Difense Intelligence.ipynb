{
 "cells": [
  {
   "cell_type": "code",
   "execution_count": 1,
   "metadata": {},
   "outputs": [
    {
     "name": "stdout",
     "output_type": "stream",
     "text": [
      "{'Aircraft  not detected': 0, 'Aircraft detected': 1}\n",
      "[0, 1]\n",
      "['Aircraft  not detected', 'Aircraft detected']\n"
     ]
    }
   ],
   "source": [
    "import cv2,os\n",
    "data_path = 'D:\\data'\n",
    "categories = os.listdir(data_path)\n",
    "labels = [i for i in range(len(categories))]\n",
    "\n",
    "label_dict = dict(zip(categories,labels))\n",
    "                  \n",
    "print(label_dict)\n",
    "print(labels)\n",
    "print(categories)\n"
   ]
  },
  {
   "cell_type": "code",
   "execution_count": 2,
   "metadata": {},
   "outputs": [],
   "source": [
    "img_size=100\n",
    "data=[]\n",
    "target=[]\n",
    "\n",
    "for category in categories:\n",
    "    folder_path=os.path.join(data_path,category)\n",
    "    img_names=os.listdir(folder_path) \n",
    "    \n",
    "    for img_name in img_names:\n",
    "        img_path=os.path.join(folder_path,img_name)\n",
    "        img=cv2.imread(img_path)\n",
    "        \n",
    "        try:\n",
    "            gray = cv2.cvtColor(img,cv2.COLOR_BGR2GRAY)\n",
    "            resize = cv2.resize(gray,(img_size,img_size))\n",
    "            data.append(resize)\n",
    "            target.append(label_dict[category])\n",
    "            \n",
    "            \n",
    "            \n",
    "        except Exception as e:\n",
    "            print('Exception',e)"
   ]
  },
  {
   "cell_type": "code",
   "execution_count": 3,
   "metadata": {},
   "outputs": [
    {
     "name": "stderr",
     "output_type": "stream",
     "text": [
      "Using TensorFlow backend.\n",
      "F:\\Users\\dell\\anaconda3\\envs\\tensorflow\\lib\\site-packages\\tensorflow\\python\\framework\\dtypes.py:516: FutureWarning: Passing (type, 1) or '1type' as a synonym of type is deprecated; in a future version of numpy, it will be understood as (type, (1,)) / '(1,)type'.\n",
      "  _np_qint8 = np.dtype([(\"qint8\", np.int8, 1)])\n",
      "F:\\Users\\dell\\anaconda3\\envs\\tensorflow\\lib\\site-packages\\tensorflow\\python\\framework\\dtypes.py:517: FutureWarning: Passing (type, 1) or '1type' as a synonym of type is deprecated; in a future version of numpy, it will be understood as (type, (1,)) / '(1,)type'.\n",
      "  _np_quint8 = np.dtype([(\"quint8\", np.uint8, 1)])\n",
      "F:\\Users\\dell\\anaconda3\\envs\\tensorflow\\lib\\site-packages\\tensorflow\\python\\framework\\dtypes.py:518: FutureWarning: Passing (type, 1) or '1type' as a synonym of type is deprecated; in a future version of numpy, it will be understood as (type, (1,)) / '(1,)type'.\n",
      "  _np_qint16 = np.dtype([(\"qint16\", np.int16, 1)])\n",
      "F:\\Users\\dell\\anaconda3\\envs\\tensorflow\\lib\\site-packages\\tensorflow\\python\\framework\\dtypes.py:519: FutureWarning: Passing (type, 1) or '1type' as a synonym of type is deprecated; in a future version of numpy, it will be understood as (type, (1,)) / '(1,)type'.\n",
      "  _np_quint16 = np.dtype([(\"quint16\", np.uint16, 1)])\n",
      "F:\\Users\\dell\\anaconda3\\envs\\tensorflow\\lib\\site-packages\\tensorflow\\python\\framework\\dtypes.py:520: FutureWarning: Passing (type, 1) or '1type' as a synonym of type is deprecated; in a future version of numpy, it will be understood as (type, (1,)) / '(1,)type'.\n",
      "  _np_qint32 = np.dtype([(\"qint32\", np.int32, 1)])\n",
      "F:\\Users\\dell\\anaconda3\\envs\\tensorflow\\lib\\site-packages\\tensorflow\\python\\framework\\dtypes.py:525: FutureWarning: Passing (type, 1) or '1type' as a synonym of type is deprecated; in a future version of numpy, it will be understood as (type, (1,)) / '(1,)type'.\n",
      "  np_resource = np.dtype([(\"resource\", np.ubyte, 1)])\n",
      "F:\\Users\\dell\\anaconda3\\envs\\tensorflow\\lib\\site-packages\\tensorboard\\compat\\tensorflow_stub\\dtypes.py:541: FutureWarning: Passing (type, 1) or '1type' as a synonym of type is deprecated; in a future version of numpy, it will be understood as (type, (1,)) / '(1,)type'.\n",
      "  _np_qint8 = np.dtype([(\"qint8\", np.int8, 1)])\n",
      "F:\\Users\\dell\\anaconda3\\envs\\tensorflow\\lib\\site-packages\\tensorboard\\compat\\tensorflow_stub\\dtypes.py:542: FutureWarning: Passing (type, 1) or '1type' as a synonym of type is deprecated; in a future version of numpy, it will be understood as (type, (1,)) / '(1,)type'.\n",
      "  _np_quint8 = np.dtype([(\"quint8\", np.uint8, 1)])\n",
      "F:\\Users\\dell\\anaconda3\\envs\\tensorflow\\lib\\site-packages\\tensorboard\\compat\\tensorflow_stub\\dtypes.py:543: FutureWarning: Passing (type, 1) or '1type' as a synonym of type is deprecated; in a future version of numpy, it will be understood as (type, (1,)) / '(1,)type'.\n",
      "  _np_qint16 = np.dtype([(\"qint16\", np.int16, 1)])\n",
      "F:\\Users\\dell\\anaconda3\\envs\\tensorflow\\lib\\site-packages\\tensorboard\\compat\\tensorflow_stub\\dtypes.py:544: FutureWarning: Passing (type, 1) or '1type' as a synonym of type is deprecated; in a future version of numpy, it will be understood as (type, (1,)) / '(1,)type'.\n",
      "  _np_quint16 = np.dtype([(\"quint16\", np.uint16, 1)])\n",
      "F:\\Users\\dell\\anaconda3\\envs\\tensorflow\\lib\\site-packages\\tensorboard\\compat\\tensorflow_stub\\dtypes.py:545: FutureWarning: Passing (type, 1) or '1type' as a synonym of type is deprecated; in a future version of numpy, it will be understood as (type, (1,)) / '(1,)type'.\n",
      "  _np_qint32 = np.dtype([(\"qint32\", np.int32, 1)])\n",
      "F:\\Users\\dell\\anaconda3\\envs\\tensorflow\\lib\\site-packages\\tensorboard\\compat\\tensorflow_stub\\dtypes.py:550: FutureWarning: Passing (type, 1) or '1type' as a synonym of type is deprecated; in a future version of numpy, it will be understood as (type, (1,)) / '(1,)type'.\n",
      "  np_resource = np.dtype([(\"resource\", np.ubyte, 1)])\n"
     ]
    }
   ],
   "source": [
    "import numpy as np\n",
    "\n",
    "data = np.array(data)/255.0\n",
    "data = np.reshape(data,(data.shape[0],img_size,img_size,1))\n",
    "target = np.array(target)\n",
    "\n",
    "from keras.utils import np_utils\n",
    "\n",
    "new_target = np_utils.to_categorical(target)\n"
   ]
  },
  {
   "cell_type": "code",
   "execution_count": 4,
   "metadata": {},
   "outputs": [],
   "source": [
    "np.save('data',data)\n",
    "np.save('target',new_target)"
   ]
  },
  {
   "cell_type": "code",
   "execution_count": 5,
   "metadata": {},
   "outputs": [],
   "source": [
    "import numpy as np\n",
    "data = np.load('data.npy')\n",
    "target = np.load('target.npy')\n"
   ]
  },
  {
   "cell_type": "code",
   "execution_count": 6,
   "metadata": {},
   "outputs": [
    {
     "name": "stdout",
     "output_type": "stream",
     "text": [
      "WARNING:tensorflow:From F:\\Users\\dell\\anaconda3\\envs\\tensorflow\\lib\\site-packages\\keras\\backend\\tensorflow_backend.py:4070: The name tf.nn.max_pool is deprecated. Please use tf.nn.max_pool2d instead.\n",
      "\n"
     ]
    }
   ],
   "source": [
    "import keras\n",
    "from keras.models import Sequential\n",
    "from keras.layers import Dense, Activation, Flatten, Dropout\n",
    "from keras.layers import Conv2D, MaxPooling2D\n",
    "from keras.callbacks import ModelCheckpoint\n",
    "\n",
    "model = Sequential()\n",
    "\n",
    "model.add(Conv2D(200,(3,3), input_shape =data.shape[1:]))\n",
    "model.add(Activation('relu'))\n",
    "model.add(MaxPooling2D(pool_size=(2,2)))\n",
    "\n",
    "model.add(Conv2D(32, (3,3)))\n",
    "model.add(Activation('relu'))\n",
    "model.add(MaxPooling2D(pool_size=(2,2)))\n",
    "\n",
    "model.add(Flatten())\n",
    "model.add(Dropout(0.5))\n",
    "model.add(Dense(50))\n",
    "model.add(Activation('relu'))\n",
    "model.add(Dense(2))  \n",
    "model.add(Activation('relu'))\n",
    "model.add(Activation('softmax'))\n",
    "model.compile(loss='categorical_crossentropy',optimizer='rmsprop', metrics=['accuracy'])\n"
   ]
  },
  {
   "cell_type": "code",
   "execution_count": 7,
   "metadata": {},
   "outputs": [],
   "source": [
    "from sklearn.model_selection import train_test_split\n",
    "train_data,test_data,train_target,test_target=train_test_split(data,target,test_size=0.2)"
   ]
  },
  {
   "cell_type": "code",
   "execution_count": 8,
   "metadata": {},
   "outputs": [
    {
     "name": "stdout",
     "output_type": "stream",
     "text": [
      "WARNING:tensorflow:From F:\\Users\\dell\\anaconda3\\envs\\tensorflow\\lib\\site-packages\\keras\\backend\\tensorflow_backend.py:422: The name tf.global_variables is deprecated. Please use tf.compat.v1.global_variables instead.\n",
      "\n",
      "Train on 30 samples, validate on 8 samples\n",
      "Epoch 1/20\n",
      "30/30 [==============================] - 2s 54ms/step - loss: 0.6919 - accuracy: 0.4333 - val_loss: 1.9611 - val_accuracy: 0.7500\n",
      "Epoch 2/20\n",
      "30/30 [==============================] - 1s 41ms/step - loss: 1.4918 - accuracy: 0.8333 - val_loss: 0.6931 - val_accuracy: 0.2500\n",
      "Epoch 3/20\n",
      "30/30 [==============================] - 1s 44ms/step - loss: 0.6931 - accuracy: 0.1667 - val_loss: 0.6931 - val_accuracy: 0.2500\n",
      "Epoch 4/20\n",
      "30/30 [==============================] - 1s 42ms/step - loss: 0.6931 - accuracy: 0.1667 - val_loss: 0.6931 - val_accuracy: 0.2500\n",
      "Epoch 5/20\n",
      "30/30 [==============================] - 1s 42ms/step - loss: 0.6931 - accuracy: 0.1667 - val_loss: 0.6931 - val_accuracy: 0.2500\n",
      "Epoch 6/20\n",
      "30/30 [==============================] - 1s 43ms/step - loss: 0.6931 - accuracy: 0.1667 - val_loss: 0.6931 - val_accuracy: 0.2500\n",
      "Epoch 7/20\n",
      "30/30 [==============================] - 1s 45ms/step - loss: 0.6931 - accuracy: 0.1667 - val_loss: 0.6931 - val_accuracy: 0.2500\n",
      "Epoch 8/20\n",
      "30/30 [==============================] - 1s 48ms/step - loss: 0.6931 - accuracy: 0.1667 - val_loss: 0.6931 - val_accuracy: 0.2500\n",
      "Epoch 9/20\n",
      "30/30 [==============================] - 1s 46ms/step - loss: 0.6931 - accuracy: 0.1667 - val_loss: 0.6931 - val_accuracy: 0.2500\n",
      "Epoch 10/20\n",
      "30/30 [==============================] - 1s 43ms/step - loss: 0.6931 - accuracy: 0.1667 - val_loss: 0.6931 - val_accuracy: 0.2500\n",
      "Epoch 11/20\n",
      "30/30 [==============================] - 1s 43ms/step - loss: 0.6931 - accuracy: 0.1667 - val_loss: 0.6931 - val_accuracy: 0.2500\n",
      "Epoch 12/20\n",
      "30/30 [==============================] - 1s 43ms/step - loss: 0.6931 - accuracy: 0.1667 - val_loss: 0.6931 - val_accuracy: 0.2500\n",
      "Epoch 13/20\n",
      "30/30 [==============================] - 1s 43ms/step - loss: 0.6931 - accuracy: 0.1667 - val_loss: 0.6931 - val_accuracy: 0.2500\n",
      "Epoch 14/20\n",
      "30/30 [==============================] - 1s 45ms/step - loss: 0.6931 - accuracy: 0.1667 - val_loss: 0.6931 - val_accuracy: 0.2500\n",
      "Epoch 15/20\n",
      "30/30 [==============================] - 1s 43ms/step - loss: 0.6931 - accuracy: 0.1667 - val_loss: 0.6931 - val_accuracy: 0.2500\n",
      "Epoch 16/20\n",
      "30/30 [==============================] - 1s 43ms/step - loss: 0.6931 - accuracy: 0.1667 - val_loss: 0.6931 - val_accuracy: 0.2500\n",
      "Epoch 17/20\n",
      "30/30 [==============================] - 1s 48ms/step - loss: 0.6931 - accuracy: 0.1667 - val_loss: 0.6931 - val_accuracy: 0.2500\n",
      "Epoch 18/20\n",
      "30/30 [==============================] - 1s 46ms/step - loss: 0.6931 - accuracy: 0.1667 - val_loss: 0.6931 - val_accuracy: 0.2500\n",
      "Epoch 19/20\n",
      "30/30 [==============================] - 1s 47ms/step - loss: 0.6931 - accuracy: 0.1667 - val_loss: 0.6931 - val_accuracy: 0.2500\n",
      "Epoch 20/20\n",
      "30/30 [==============================] - 2s 50ms/step - loss: 0.6931 - accuracy: 0.1667 - val_loss: 0.6931 - val_accuracy: 0.2500\n"
     ]
    }
   ],
   "source": [
    "checkpoint = ModelCheckpoint('model-{epoch:03d}.model', monitor='val_loss',verbose=0,save_best_only=True,mode='auto')\n",
    "history=model.fit(train_data,train_target,epochs=20,callbacks=[checkpoint],validation_split=0.2)"
   ]
  },
  {
   "cell_type": "code",
   "execution_count": 9,
   "metadata": {},
   "outputs": [],
   "source": [
    "from keras.models import load_model\n",
    "import cv2\n",
    "import numpy as np"
   ]
  },
  {
   "cell_type": "code",
   "execution_count": 10,
   "metadata": {},
   "outputs": [],
   "source": [
    "model = load_model('model-001.model')\n",
    "aircraft_clsf = cv2.CascadeClassifier('D:\\jb\\craft.xml')\n",
    "source = cv2.VideoCapture(0)\n",
    "label_dict={0:'Aircraft  not detected',1:'Aircraft detected'}\n",
    "color_dict={0:(0,255,0),1:(0,0,255)}"
   ]
  },
  {
   "cell_type": "code",
   "execution_count": null,
   "metadata": {},
   "outputs": [],
   "source": [
    "while(True):\n",
    "    \n",
    "    ret,img = source.read()\n",
    "   \n",
    "    \n",
    "    gray = cv2.cvtColor(img,cv2.COLOR_BGR2GRAY)\n",
    "    aircrafts = aircraft_clsf.detectMultiScale(gray,1.3,5)\n",
    "    \n",
    "    for x,y,w,h in aircrafts:\n",
    "        \n",
    "        face_img=gray[y:y+w,x:x+w]\n",
    "        resize = cv2.resize(face_img,(100,100))\n",
    "        normalize = resize/255.0\n",
    "        reshape = np.reshape(normalize,(1,100,100,1))\n",
    "        result = model.predict(reshape)\n",
    "        \n",
    "        label = np.argmax(result,axis=0)[1]\n",
    "        cv2.rectangle(img,(x,y),(x+w,y+h),color_dict[label],2)\n",
    "        cv2.rectangle(img,(x,y-40),(x+w,y),color_dict[label],-1)\n",
    "        \n",
    "        \n",
    "        \n",
    "    cv2.imshow('LIVE',img)\n",
    "    key=cv2.waitKey(1000)\n",
    "    if(key==27):\n",
    "        break\n",
    "cv2.destroyAllWindows()\n",
    "source.release()"
   ]
  },
  {
   "cell_type": "code",
   "execution_count": null,
   "metadata": {},
   "outputs": [],
   "source": []
  }
 ],
 "metadata": {
  "kernelspec": {
   "display_name": "Python 3",
   "language": "python",
   "name": "python3"
  },
  "language_info": {
   "codemirror_mode": {
    "name": "ipython",
    "version": 3
   },
   "file_extension": ".py",
   "mimetype": "text/x-python",
   "name": "python",
   "nbconvert_exporter": "python",
   "pygments_lexer": "ipython3",
   "version": "3.7.6"
  }
 },
 "nbformat": 4,
 "nbformat_minor": 4
}
